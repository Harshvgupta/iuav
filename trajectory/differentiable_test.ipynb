{
 "cells": [
  {
   "cell_type": "code",
   "execution_count": 2,
   "metadata": {},
   "outputs": [],
   "source": [
    "import torch\n",
    "from torch import nn, optim\n",
    "import matplotlib.pyplot as plt\n",
    "from minimum_snap import UAVTrajectoryPlanner  # Ensure you have this module"
   ]
  },
  {
   "cell_type": "code",
   "execution_count": 21,
   "metadata": {},
   "outputs": [],
   "source": [
    "class WaypointPredictorAgent(nn.Module):\n",
    "    def __init__(self, input_dim, output_dim, dtype=torch.float64):  # Add dtype parameter\n",
    "        super(WaypointPredictorAgent, self).__init__()\n",
    "        self.network = nn.Sequential(\n",
    "            nn.Linear(input_dim, 128).to(dtype),  # Convert to specified dtype\n",
    "            nn.ReLU(),\n",
    "            nn.Linear(128, 256).to(dtype),  # Convert to specified dtype\n",
    "            nn.ReLU(),\n",
    "            nn.Linear(256, output_dim).to(dtype)  # Convert to specified dtype\n",
    "        )\n",
    "    \n",
    "    def forward(self, trajectories):\n",
    "        return self.network(trajectories)\n"
   ]
  },
  {
   "cell_type": "code",
   "execution_count": 20,
   "metadata": {},
   "outputs": [],
   "source": [
    "def train(epochs, planner, agent, optimizer, criterion, waypoints, total_time):\n",
    "    predicted_waypoints_all = []\n",
    "    for epoch in range(epochs):\n",
    "        optimizer.zero_grad()\n",
    "\n",
    "        # Expert generates trajectories using UAVTrajectoryPlanner\n",
    "        polys_x, polys_y, _ = planner(waypoints, total_time)\n",
    "\n",
    "        # Correctly flatten the polynomial coefficients for input to the agent\n",
    "        # Ensure both polys_x and polys_y are properly flattened\n",
    "        agent_input = torch.cat((polys_x.flatten(), polys_y.flatten())).unsqueeze(0)\n",
    "\n",
    "        # Ensure the input has the correct shape and dtype before passing to the agent\n",
    "        assert agent_input.shape == (1, 36), \"Input tensor has incorrect shape\"\n",
    "        agent_input = agent_input.to(dtype=torch.float64)\n",
    "\n",
    "        # Agent predicts waypoints from the given trajectory information\n",
    "        if epoch == 0:\n",
    "            predicted_waypoints = initial_waypoints.flatten().clone().detach().requires_grad_(True)\n",
    "        else:\n",
    "            # Subsequent epochs use the agent's network to predict waypoints\n",
    "            predicted_waypoints = agent(agent_input)\n",
    "\n",
    "        # Compute the loss and update\n",
    "        loss = criterion(predicted_waypoints, waypoints.flatten())\n",
    "        loss.backward()\n",
    "        optimizer.step()\n",
    "\n",
    "        if epoch % 100 == 0:\n",
    "            print(f'Epoch {epoch}: Loss {loss.item()}')\n",
    "        \n",
    "        predicted_waypoints = predicted_waypoints.detach()  # Detach from the computation graph\n",
    "        predicted_waypoints = predicted_waypoints.reshape(2, -1)  # Reshape to [2, N] format assuming 2D waypoints\n",
    "        predicted_waypoints_all.append(predicted_waypoints.numpy())\n",
    "    \n",
    "    return predicted_waypoints, predicted_waypoints_all\n"
   ]
  },
  {
   "cell_type": "code",
   "execution_count": 22,
   "metadata": {},
   "outputs": [
    {
     "ename": "TypeError",
     "evalue": "__init__() got multiple values for argument 'dtype'",
     "output_type": "error",
     "traceback": [
      "\u001b[1;31m---------------------------------------------------------------------------\u001b[0m",
      "\u001b[1;31mTypeError\u001b[0m                                 Traceback (most recent call last)",
      "Cell \u001b[1;32mIn[22], line 14\u001b[0m\n\u001b[0;32m     11\u001b[0m waypoints \u001b[38;5;241m=\u001b[39m torch\u001b[38;5;241m.\u001b[39mtensor([[\u001b[38;5;241m0\u001b[39m, \u001b[38;5;241m0\u001b[39m], [\u001b[38;5;241m1\u001b[39m, \u001b[38;5;241m0\u001b[39m], [\u001b[38;5;241m1\u001b[39m, \u001b[38;5;241m2\u001b[39m], [\u001b[38;5;241m0\u001b[39m, \u001b[38;5;241m2\u001b[39m]], dtype\u001b[38;5;241m=\u001b[39mtorch\u001b[38;5;241m.\u001b[39mfloat64)\u001b[38;5;241m.\u001b[39mt()\n\u001b[0;32m     13\u001b[0m \u001b[38;5;66;03m# Instantiate the UAVTrajectoryPlanner with the correct arguments\u001b[39;00m\n\u001b[1;32m---> 14\u001b[0m planner \u001b[38;5;241m=\u001b[39m \u001b[43mUAVTrajectoryPlanner\u001b[49m\u001b[43m(\u001b[49m\u001b[43mwaypoints\u001b[49m\u001b[43m,\u001b[49m\u001b[43m \u001b[49m\u001b[43mtotal_time\u001b[49m\u001b[43m,\u001b[49m\u001b[43m \u001b[49m\u001b[43mpoly_order\u001b[49m\u001b[43m,\u001b[49m\u001b[43m \u001b[49m\u001b[43mstart_vel\u001b[49m\u001b[43m,\u001b[49m\u001b[43m \u001b[49m\u001b[43mstart_acc\u001b[49m\u001b[43m,\u001b[49m\u001b[43m \u001b[49m\u001b[43mend_vel\u001b[49m\u001b[43m,\u001b[49m\u001b[43m \u001b[49m\u001b[43mend_acc\u001b[49m\u001b[43m,\u001b[49m\u001b[43m \u001b[49m\u001b[43mdtype\u001b[49m\u001b[38;5;241;43m=\u001b[39;49m\u001b[43mdtype\u001b[49m\u001b[43m,\u001b[49m\u001b[43m \u001b[49m\u001b[43mdevice\u001b[49m\u001b[38;5;241;43m=\u001b[39;49m\u001b[43mdevice\u001b[49m\u001b[43m)\u001b[49m\n",
      "\u001b[1;31mTypeError\u001b[0m: __init__() got multiple values for argument 'dtype'"
     ]
    }
   ],
   "source": [
    "# Define the UAVTrajectoryPlanner with its parameters\n",
    "initial_waypoints = torch.tensor([[15, 30], [20, 60], [0, 20], [30, 40]], dtype=torch.float64).t()  # Custom initial waypoints for the agent\n",
    "total_time = 24.0\n",
    "poly_order = 5\n",
    "start_vel = [0, 0]\n",
    "start_acc = [0, 0]\n",
    "end_vel = [0, 0]\n",
    "end_acc = [0, 0]\n",
    "dtype = torch.float64\n",
    "device = 'cuda'  # Ensure this matches your available device\n",
    "waypoints = torch.tensor([[0, 0], [1, 0], [1, 2], [0, 2]], dtype=torch.float64).t()\n",
    "\n",
    "# Instantiate the UAVTrajectoryPlanner with the correct arguments\n",
    "planner = UAVTrajectoryPlanner(waypoints, total_time, poly_order, start_vel, start_acc, end_vel, end_acc, dtype=dtype, device=device)\n"
   ]
  },
  {
   "cell_type": "code",
   "execution_count": 6,
   "metadata": {},
   "outputs": [],
   "source": [
    "# Initialize the Agent model with appropriate input and output dimensions\n",
    "num_waypoints = 4  # Number of waypoints including the starting point\n",
    "input_dim = 6 * 3 * 2  # 6 coefficients, 3 segments, 2 trajectories (x and y)\n",
    "output_dim = 4 * 2  # 4 waypoints, each with x and y coordinates\n",
    "\n",
    "agent = WaypointPredictorAgent(input_dim, output_dim, dtype=torch.float64)\n"
   ]
  },
  {
   "cell_type": "code",
   "execution_count": 7,
   "metadata": {},
   "outputs": [],
   "source": [
    "# Setup the optimizer and loss function for training\n",
    "optimizer = optim.Adam(agent.parameters(), lr=0.001)\n",
    "criterion = nn.MSELoss()\n"
   ]
  },
  {
   "cell_type": "code",
   "execution_count": 8,
   "metadata": {},
   "outputs": [
    {
     "ename": "NameError",
     "evalue": "name 'planner' is not defined",
     "output_type": "error",
     "traceback": [
      "\u001b[1;31m---------------------------------------------------------------------------\u001b[0m",
      "\u001b[1;31mNameError\u001b[0m                                 Traceback (most recent call last)",
      "Cell \u001b[1;32mIn[8], line 4\u001b[0m\n\u001b[0;32m      1\u001b[0m \u001b[38;5;66;03m# Start the training process\u001b[39;00m\n\u001b[0;32m      2\u001b[0m predicted_waypoints, predicted_waypoints_all \u001b[38;5;241m=\u001b[39m train(\n\u001b[0;32m      3\u001b[0m     epochs\u001b[38;5;241m=\u001b[39m\u001b[38;5;241m100\u001b[39m,\n\u001b[1;32m----> 4\u001b[0m     planner\u001b[38;5;241m=\u001b[39m\u001b[43mplanner\u001b[49m,\n\u001b[0;32m      5\u001b[0m     agent\u001b[38;5;241m=\u001b[39magent,\n\u001b[0;32m      6\u001b[0m     optimizer\u001b[38;5;241m=\u001b[39moptimizer,\n\u001b[0;32m      7\u001b[0m     criterion\u001b[38;5;241m=\u001b[39mcriterion,\n\u001b[0;32m      8\u001b[0m     waypoints\u001b[38;5;241m=\u001b[39mwaypoints,\n\u001b[0;32m      9\u001b[0m     total_time\u001b[38;5;241m=\u001b[39mtotal_time\n\u001b[0;32m     10\u001b[0m )\n",
      "\u001b[1;31mNameError\u001b[0m: name 'planner' is not defined"
     ]
    }
   ],
   "source": [
    "# Start the training process\n",
    "predicted_waypoints, predicted_waypoints_all = train(\n",
    "    epochs=100,\n",
    "    planner=planner,\n",
    "    agent=agent,\n",
    "    optimizer=optimizer,\n",
    "    criterion=criterion,\n",
    "    waypoints=waypoints,\n",
    "    total_time=total_time\n",
    ")\n"
   ]
  },
  {
   "cell_type": "code",
   "execution_count": 9,
   "metadata": {},
   "outputs": [
    {
     "ename": "NameError",
     "evalue": "name 'predicted_waypoints_all' is not defined",
     "output_type": "error",
     "traceback": [
      "\u001b[1;31m---------------------------------------------------------------------------\u001b[0m",
      "\u001b[1;31mNameError\u001b[0m                                 Traceback (most recent call last)",
      "Cell \u001b[1;32mIn[9], line 3\u001b[0m\n\u001b[0;32m      1\u001b[0m \u001b[38;5;66;03m# Plotting\u001b[39;00m\n\u001b[0;32m      2\u001b[0m plt\u001b[38;5;241m.\u001b[39mfigure(figsize\u001b[38;5;241m=\u001b[39m(\u001b[38;5;241m10\u001b[39m, \u001b[38;5;241m5\u001b[39m))\n\u001b[1;32m----> 3\u001b[0m \u001b[38;5;28;01mfor\u001b[39;00m i, preds \u001b[38;5;129;01min\u001b[39;00m \u001b[38;5;28menumerate\u001b[39m(\u001b[43mpredicted_waypoints_all\u001b[49m):\n\u001b[0;32m      4\u001b[0m     \u001b[38;5;28;01mif\u001b[39;00m i \u001b[38;5;241m%\u001b[39m \u001b[38;5;241m5\u001b[39m \u001b[38;5;241m==\u001b[39m \u001b[38;5;241m0\u001b[39m:  \u001b[38;5;66;03m# Optionally reduce the number of plotted epochs for clarity\u001b[39;00m\n\u001b[0;32m      5\u001b[0m         plt\u001b[38;5;241m.\u001b[39mplot(preds[\u001b[38;5;241m0\u001b[39m], preds[\u001b[38;5;241m1\u001b[39m], \u001b[38;5;124m'\u001b[39m\u001b[38;5;124mo--\u001b[39m\u001b[38;5;124m'\u001b[39m, label\u001b[38;5;241m=\u001b[39m\u001b[38;5;124mf\u001b[39m\u001b[38;5;124m'\u001b[39m\u001b[38;5;124mEpoch \u001b[39m\u001b[38;5;132;01m{\u001b[39;00mi\u001b[38;5;132;01m}\u001b[39;00m\u001b[38;5;124m'\u001b[39m, alpha\u001b[38;5;241m=\u001b[39m\u001b[38;5;241m0.6\u001b[39m)\n",
      "\u001b[1;31mNameError\u001b[0m: name 'predicted_waypoints_all' is not defined"
     ]
    },
    {
     "data": {
      "text/plain": [
       "<Figure size 1000x500 with 0 Axes>"
      ]
     },
     "metadata": {},
     "output_type": "display_data"
    }
   ],
   "source": [
    "# Plotting\n",
    "plt.figure(figsize=(10, 5))\n",
    "for i, preds in enumerate(predicted_waypoints_all):\n",
    "    if i % 5 == 0:  # Optionally reduce the number of plotted epochs for clarity\n",
    "        plt.plot(preds[0], preds[1], 'o--', label=f'Epoch {i}', alpha=0.6)\n",
    "        \n",
    "# Plot original waypoints\n",
    "original_waypoints = torch.tensor([[0, 0], [1, 0], [1, 2], [0, 2]], dtype=torch.float64).t()\n",
    "plt.plot(original_waypoints[0].numpy(), original_waypoints[1].numpy(), 'ro-', label='Original Waypoints')\n",
    "\n",
    "# Plot predicted waypoints\n",
    "plt.plot(predicted_waypoints[0].numpy(), predicted_waypoints[1].numpy(), 'bx--', label='Predicted Waypoints')\n",
    "\n",
    "plt.title(\"Comparison of Original and Predicted Waypoints\")\n",
    "plt.xlabel(\"X Coordinate\")\n",
    "plt.ylabel(\"Y Coordinate\")\n",
    "plt.legend()\n",
    "plt.grid(True)\n",
    "plt.axis('equal')  # Ensure equal aspect ratio for x and y axes to avoid distortion\n",
    "plt.show()\n"
   ]
  },
  {
   "cell_type": "code",
   "execution_count": null,
   "metadata": {},
   "outputs": [],
   "source": []
  }
 ],
 "metadata": {
  "kernelspec": {
   "display_name": "uav",
   "language": "python",
   "name": "python3"
  },
  "language_info": {
   "codemirror_mode": {
    "name": "ipython",
    "version": 3
   },
   "file_extension": ".py",
   "mimetype": "text/x-python",
   "name": "python",
   "nbconvert_exporter": "python",
   "pygments_lexer": "ipython3",
   "version": "3.8.18"
  }
 },
 "nbformat": 4,
 "nbformat_minor": 2
}
